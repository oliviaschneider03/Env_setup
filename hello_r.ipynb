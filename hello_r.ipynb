{
 "cells": [
  {
   "cell_type": "markdown",
   "id": "1c6fd4a8-b0d1-4c7e-ac3d-1832b1d5640a",
   "metadata": {},
   "source": [
    "#Hello World in R \n",
    "This notebook demonstrates a simple \"Hello, World!\" script in R."
   ]
  },
  {
   "cell_type": "code",
   "execution_count": 2,
   "id": "c91cbd4b-bc1b-437e-b919-d2ae8b211eab",
   "metadata": {},
   "outputs": [
    {
     "name": "stdout",
     "output_type": "stream",
     "text": [
      "Hello, World from R!/n"
     ]
    }
   ],
   "source": [
    "cat(\"Hello, World from R!/n\")"
   ]
  },
  {
   "cell_type": "code",
   "execution_count": null,
   "id": "ced8b788-d4fc-4cd1-994d-a2def1322d83",
   "metadata": {},
   "outputs": [],
   "source": []
  }
 ],
 "metadata": {
  "kernelspec": {
   "display_name": "R (7030_class_1)",
   "language": "R",
   "name": "ir_7030_class_1"
  },
  "language_info": {
   "codemirror_mode": "r",
   "file_extension": ".r",
   "mimetype": "text/x-r-source",
   "name": "R",
   "pygments_lexer": "r",
   "version": "4.4.3"
  }
 },
 "nbformat": 4,
 "nbformat_minor": 5
}
