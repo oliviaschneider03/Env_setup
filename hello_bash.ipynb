{
 "cells": [
  {
   "cell_type": "markdown",
   "id": "f84a6aa8-dd6a-41e2-aeea-99cc9c1d7441",
   "metadata": {},
   "source": [
    "# Hello World in Bash\n",
    "This notebook demonstrates a Bash script using Jupyter's '%%bash' magic "
   ]
  },
  {
   "cell_type": "code",
   "execution_count": 1,
   "id": "1da063bc-2609-499a-a2e5-a399db417323",
   "metadata": {},
   "outputs": [
    {
     "name": "stdout",
     "output_type": "stream",
     "text": [
      "Hello, World from Bash!\n"
     ]
    }
   ],
   "source": [
    "%%bash\n",
    "echo \"Hello, World from Bash!\""
   ]
  },
  {
   "cell_type": "code",
   "execution_count": null,
   "id": "bb29d764-a100-4450-a0d3-de21723a104d",
   "metadata": {},
   "outputs": [],
   "source": []
  }
 ],
 "metadata": {
  "kernelspec": {
   "display_name": "Python (7030_class_1)",
   "language": "python",
   "name": "7030_class_1"
  },
  "language_info": {
   "codemirror_mode": {
    "name": "ipython",
    "version": 3
   },
   "file_extension": ".py",
   "mimetype": "text/x-python",
   "name": "python",
   "nbconvert_exporter": "python",
   "pygments_lexer": "ipython3",
   "version": "3.10.18"
  }
 },
 "nbformat": 4,
 "nbformat_minor": 5
}
