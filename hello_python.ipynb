{
 "cells": [
  {
   "cell_type": "markdown",
   "id": "4627087b-25cf-48be-b66f-5b193a42f1ff",
   "metadata": {},
   "source": [
    "# Hello,World in Python"
   ]
  },
  {
   "cell_type": "code",
   "execution_count": 1,
   "id": "6a833a5f-033f-41bc-bba6-38621bcadebe",
   "metadata": {},
   "outputs": [
    {
     "name": "stdout",
     "output_type": "stream",
     "text": [
      "Hello, World from Python!\n"
     ]
    }
   ],
   "source": [
    "print (\"Hello, World from Python!\")"
   ]
  },
  {
   "cell_type": "code",
   "execution_count": null,
   "id": "bf2b2679-6992-45e0-9e0c-f29e6c430718",
   "metadata": {},
   "outputs": [],
   "source": []
  }
 ],
 "metadata": {
  "kernelspec": {
   "display_name": "Python 3 (ipykernel)",
   "language": "python",
   "name": "python3"
  },
  "language_info": {
   "codemirror_mode": {
    "name": "ipython",
    "version": 3
   },
   "file_extension": ".py",
   "mimetype": "text/x-python",
   "name": "python",
   "nbconvert_exporter": "python",
   "pygments_lexer": "ipython3",
   "version": "3.10.18"
  }
 },
 "nbformat": 4,
 "nbformat_minor": 5
}
